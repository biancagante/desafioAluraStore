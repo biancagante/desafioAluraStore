{
  "nbformat": 4,
  "nbformat_minor": 0,
  "metadata": {
    "colab": {
      "provenance": [],
      "include_colab_link": true
    },
    "kernelspec": {
      "name": "python3",
      "display_name": "Python 3"
    },
    "language_info": {
      "name": "python"
    }
  },
  "cells": [
    {
      "cell_type": "markdown",
      "metadata": {
        "id": "view-in-github",
        "colab_type": "text"
      },
      "source": [
        "<a href=\"https://colab.research.google.com/github/biancagante/desafioAluraStore/blob/main/AluraStoreBr.ipynb\" target=\"_parent\"><img src=\"https://colab.research.google.com/assets/colab-badge.svg\" alt=\"Open In Colab\"/></a>"
      ]
    },
    {
      "cell_type": "markdown",
      "source": [
        "### Importação dos dados\n",
        "\n"
      ],
      "metadata": {
        "id": "RhEdWd9YUR6H"
      }
    },
    {
      "cell_type": "code",
      "execution_count": 501,
      "metadata": {
        "colab": {
          "base_uri": "https://localhost:8080/",
          "height": 293
        },
        "id": "T3EvaeQ_INIL",
        "outputId": "a7018210-751d-4561-8983-0fc70636475e"
      },
      "outputs": [
        {
          "output_type": "execute_result",
          "data": {
            "text/plain": [
              "                 Produto Categoria do Produto    Preço      Frete  \\\n",
              "0     Assistente virtual          eletronicos   219.08   9.249790   \n",
              "1         Mesa de jantar               moveis   256.35  11.234305   \n",
              "2      Jogo de tabuleiro           brinquedos   279.51  21.262681   \n",
              "3            Micro-ondas     eletrodomesticos  1009.99  54.667344   \n",
              "4  Cadeira de escritório               moveis   446.99  26.964689   \n",
              "\n",
              "  Data da Compra        Vendedor Local da compra  Avaliação da compra  \\\n",
              "0     16/01/2021     Pedro Gomes              SP                    4   \n",
              "1     18/05/2022  Beatriz Moraes              RJ                    1   \n",
              "2     15/03/2021      João Souza              DF                    1   \n",
              "3     03/05/2022      João Souza              RS                    4   \n",
              "4     07/11/2020   Larissa Alves              MG                    5   \n",
              "\n",
              "  Tipo de pagamento  Quantidade de parcelas    lat    lon  \n",
              "0    cartao_credito                       8 -22.19 -48.79  \n",
              "1    cartao_credito                       4 -22.25 -42.66  \n",
              "2    cartao_credito                       1 -15.83 -47.86  \n",
              "3            boleto                       1 -30.17 -53.50  \n",
              "4            boleto                       1 -18.10 -44.38  "
            ],
            "text/html": [
              "\n",
              "  <div id=\"df-d64fb103-9c00-4cac-b125-0ca92b108708\" class=\"colab-df-container\">\n",
              "    <div>\n",
              "<style scoped>\n",
              "    .dataframe tbody tr th:only-of-type {\n",
              "        vertical-align: middle;\n",
              "    }\n",
              "\n",
              "    .dataframe tbody tr th {\n",
              "        vertical-align: top;\n",
              "    }\n",
              "\n",
              "    .dataframe thead th {\n",
              "        text-align: right;\n",
              "    }\n",
              "</style>\n",
              "<table border=\"1\" class=\"dataframe\">\n",
              "  <thead>\n",
              "    <tr style=\"text-align: right;\">\n",
              "      <th></th>\n",
              "      <th>Produto</th>\n",
              "      <th>Categoria do Produto</th>\n",
              "      <th>Preço</th>\n",
              "      <th>Frete</th>\n",
              "      <th>Data da Compra</th>\n",
              "      <th>Vendedor</th>\n",
              "      <th>Local da compra</th>\n",
              "      <th>Avaliação da compra</th>\n",
              "      <th>Tipo de pagamento</th>\n",
              "      <th>Quantidade de parcelas</th>\n",
              "      <th>lat</th>\n",
              "      <th>lon</th>\n",
              "    </tr>\n",
              "  </thead>\n",
              "  <tbody>\n",
              "    <tr>\n",
              "      <th>0</th>\n",
              "      <td>Assistente virtual</td>\n",
              "      <td>eletronicos</td>\n",
              "      <td>219.08</td>\n",
              "      <td>9.249790</td>\n",
              "      <td>16/01/2021</td>\n",
              "      <td>Pedro Gomes</td>\n",
              "      <td>SP</td>\n",
              "      <td>4</td>\n",
              "      <td>cartao_credito</td>\n",
              "      <td>8</td>\n",
              "      <td>-22.19</td>\n",
              "      <td>-48.79</td>\n",
              "    </tr>\n",
              "    <tr>\n",
              "      <th>1</th>\n",
              "      <td>Mesa de jantar</td>\n",
              "      <td>moveis</td>\n",
              "      <td>256.35</td>\n",
              "      <td>11.234305</td>\n",
              "      <td>18/05/2022</td>\n",
              "      <td>Beatriz Moraes</td>\n",
              "      <td>RJ</td>\n",
              "      <td>1</td>\n",
              "      <td>cartao_credito</td>\n",
              "      <td>4</td>\n",
              "      <td>-22.25</td>\n",
              "      <td>-42.66</td>\n",
              "    </tr>\n",
              "    <tr>\n",
              "      <th>2</th>\n",
              "      <td>Jogo de tabuleiro</td>\n",
              "      <td>brinquedos</td>\n",
              "      <td>279.51</td>\n",
              "      <td>21.262681</td>\n",
              "      <td>15/03/2021</td>\n",
              "      <td>João Souza</td>\n",
              "      <td>DF</td>\n",
              "      <td>1</td>\n",
              "      <td>cartao_credito</td>\n",
              "      <td>1</td>\n",
              "      <td>-15.83</td>\n",
              "      <td>-47.86</td>\n",
              "    </tr>\n",
              "    <tr>\n",
              "      <th>3</th>\n",
              "      <td>Micro-ondas</td>\n",
              "      <td>eletrodomesticos</td>\n",
              "      <td>1009.99</td>\n",
              "      <td>54.667344</td>\n",
              "      <td>03/05/2022</td>\n",
              "      <td>João Souza</td>\n",
              "      <td>RS</td>\n",
              "      <td>4</td>\n",
              "      <td>boleto</td>\n",
              "      <td>1</td>\n",
              "      <td>-30.17</td>\n",
              "      <td>-53.50</td>\n",
              "    </tr>\n",
              "    <tr>\n",
              "      <th>4</th>\n",
              "      <td>Cadeira de escritório</td>\n",
              "      <td>moveis</td>\n",
              "      <td>446.99</td>\n",
              "      <td>26.964689</td>\n",
              "      <td>07/11/2020</td>\n",
              "      <td>Larissa Alves</td>\n",
              "      <td>MG</td>\n",
              "      <td>5</td>\n",
              "      <td>boleto</td>\n",
              "      <td>1</td>\n",
              "      <td>-18.10</td>\n",
              "      <td>-44.38</td>\n",
              "    </tr>\n",
              "  </tbody>\n",
              "</table>\n",
              "</div>\n",
              "    <div class=\"colab-df-buttons\">\n",
              "\n",
              "  <div class=\"colab-df-container\">\n",
              "    <button class=\"colab-df-convert\" onclick=\"convertToInteractive('df-d64fb103-9c00-4cac-b125-0ca92b108708')\"\n",
              "            title=\"Convert this dataframe to an interactive table.\"\n",
              "            style=\"display:none;\">\n",
              "\n",
              "  <svg xmlns=\"http://www.w3.org/2000/svg\" height=\"24px\" viewBox=\"0 -960 960 960\">\n",
              "    <path d=\"M120-120v-720h720v720H120Zm60-500h600v-160H180v160Zm220 220h160v-160H400v160Zm0 220h160v-160H400v160ZM180-400h160v-160H180v160Zm440 0h160v-160H620v160ZM180-180h160v-160H180v160Zm440 0h160v-160H620v160Z\"/>\n",
              "  </svg>\n",
              "    </button>\n",
              "\n",
              "  <style>\n",
              "    .colab-df-container {\n",
              "      display:flex;\n",
              "      gap: 12px;\n",
              "    }\n",
              "\n",
              "    .colab-df-convert {\n",
              "      background-color: #E8F0FE;\n",
              "      border: none;\n",
              "      border-radius: 50%;\n",
              "      cursor: pointer;\n",
              "      display: none;\n",
              "      fill: #1967D2;\n",
              "      height: 32px;\n",
              "      padding: 0 0 0 0;\n",
              "      width: 32px;\n",
              "    }\n",
              "\n",
              "    .colab-df-convert:hover {\n",
              "      background-color: #E2EBFA;\n",
              "      box-shadow: 0px 1px 2px rgba(60, 64, 67, 0.3), 0px 1px 3px 1px rgba(60, 64, 67, 0.15);\n",
              "      fill: #174EA6;\n",
              "    }\n",
              "\n",
              "    .colab-df-buttons div {\n",
              "      margin-bottom: 4px;\n",
              "    }\n",
              "\n",
              "    [theme=dark] .colab-df-convert {\n",
              "      background-color: #3B4455;\n",
              "      fill: #D2E3FC;\n",
              "    }\n",
              "\n",
              "    [theme=dark] .colab-df-convert:hover {\n",
              "      background-color: #434B5C;\n",
              "      box-shadow: 0px 1px 3px 1px rgba(0, 0, 0, 0.15);\n",
              "      filter: drop-shadow(0px 1px 2px rgba(0, 0, 0, 0.3));\n",
              "      fill: #FFFFFF;\n",
              "    }\n",
              "  </style>\n",
              "\n",
              "    <script>\n",
              "      const buttonEl =\n",
              "        document.querySelector('#df-d64fb103-9c00-4cac-b125-0ca92b108708 button.colab-df-convert');\n",
              "      buttonEl.style.display =\n",
              "        google.colab.kernel.accessAllowed ? 'block' : 'none';\n",
              "\n",
              "      async function convertToInteractive(key) {\n",
              "        const element = document.querySelector('#df-d64fb103-9c00-4cac-b125-0ca92b108708');\n",
              "        const dataTable =\n",
              "          await google.colab.kernel.invokeFunction('convertToInteractive',\n",
              "                                                    [key], {});\n",
              "        if (!dataTable) return;\n",
              "\n",
              "        const docLinkHtml = 'Like what you see? Visit the ' +\n",
              "          '<a target=\"_blank\" href=https://colab.research.google.com/notebooks/data_table.ipynb>data table notebook</a>'\n",
              "          + ' to learn more about interactive tables.';\n",
              "        element.innerHTML = '';\n",
              "        dataTable['output_type'] = 'display_data';\n",
              "        await google.colab.output.renderOutput(dataTable, element);\n",
              "        const docLink = document.createElement('div');\n",
              "        docLink.innerHTML = docLinkHtml;\n",
              "        element.appendChild(docLink);\n",
              "      }\n",
              "    </script>\n",
              "  </div>\n",
              "\n",
              "\n",
              "    <div id=\"df-16fd83d9-16a7-49f1-8aca-1c5429b083fb\">\n",
              "      <button class=\"colab-df-quickchart\" onclick=\"quickchart('df-16fd83d9-16a7-49f1-8aca-1c5429b083fb')\"\n",
              "                title=\"Suggest charts\"\n",
              "                style=\"display:none;\">\n",
              "\n",
              "<svg xmlns=\"http://www.w3.org/2000/svg\" height=\"24px\"viewBox=\"0 0 24 24\"\n",
              "     width=\"24px\">\n",
              "    <g>\n",
              "        <path d=\"M19 3H5c-1.1 0-2 .9-2 2v14c0 1.1.9 2 2 2h14c1.1 0 2-.9 2-2V5c0-1.1-.9-2-2-2zM9 17H7v-7h2v7zm4 0h-2V7h2v10zm4 0h-2v-4h2v4z\"/>\n",
              "    </g>\n",
              "</svg>\n",
              "      </button>\n",
              "\n",
              "<style>\n",
              "  .colab-df-quickchart {\n",
              "      --bg-color: #E8F0FE;\n",
              "      --fill-color: #1967D2;\n",
              "      --hover-bg-color: #E2EBFA;\n",
              "      --hover-fill-color: #174EA6;\n",
              "      --disabled-fill-color: #AAA;\n",
              "      --disabled-bg-color: #DDD;\n",
              "  }\n",
              "\n",
              "  [theme=dark] .colab-df-quickchart {\n",
              "      --bg-color: #3B4455;\n",
              "      --fill-color: #D2E3FC;\n",
              "      --hover-bg-color: #434B5C;\n",
              "      --hover-fill-color: #FFFFFF;\n",
              "      --disabled-bg-color: #3B4455;\n",
              "      --disabled-fill-color: #666;\n",
              "  }\n",
              "\n",
              "  .colab-df-quickchart {\n",
              "    background-color: var(--bg-color);\n",
              "    border: none;\n",
              "    border-radius: 50%;\n",
              "    cursor: pointer;\n",
              "    display: none;\n",
              "    fill: var(--fill-color);\n",
              "    height: 32px;\n",
              "    padding: 0;\n",
              "    width: 32px;\n",
              "  }\n",
              "\n",
              "  .colab-df-quickchart:hover {\n",
              "    background-color: var(--hover-bg-color);\n",
              "    box-shadow: 0 1px 2px rgba(60, 64, 67, 0.3), 0 1px 3px 1px rgba(60, 64, 67, 0.15);\n",
              "    fill: var(--button-hover-fill-color);\n",
              "  }\n",
              "\n",
              "  .colab-df-quickchart-complete:disabled,\n",
              "  .colab-df-quickchart-complete:disabled:hover {\n",
              "    background-color: var(--disabled-bg-color);\n",
              "    fill: var(--disabled-fill-color);\n",
              "    box-shadow: none;\n",
              "  }\n",
              "\n",
              "  .colab-df-spinner {\n",
              "    border: 2px solid var(--fill-color);\n",
              "    border-color: transparent;\n",
              "    border-bottom-color: var(--fill-color);\n",
              "    animation:\n",
              "      spin 1s steps(1) infinite;\n",
              "  }\n",
              "\n",
              "  @keyframes spin {\n",
              "    0% {\n",
              "      border-color: transparent;\n",
              "      border-bottom-color: var(--fill-color);\n",
              "      border-left-color: var(--fill-color);\n",
              "    }\n",
              "    20% {\n",
              "      border-color: transparent;\n",
              "      border-left-color: var(--fill-color);\n",
              "      border-top-color: var(--fill-color);\n",
              "    }\n",
              "    30% {\n",
              "      border-color: transparent;\n",
              "      border-left-color: var(--fill-color);\n",
              "      border-top-color: var(--fill-color);\n",
              "      border-right-color: var(--fill-color);\n",
              "    }\n",
              "    40% {\n",
              "      border-color: transparent;\n",
              "      border-right-color: var(--fill-color);\n",
              "      border-top-color: var(--fill-color);\n",
              "    }\n",
              "    60% {\n",
              "      border-color: transparent;\n",
              "      border-right-color: var(--fill-color);\n",
              "    }\n",
              "    80% {\n",
              "      border-color: transparent;\n",
              "      border-right-color: var(--fill-color);\n",
              "      border-bottom-color: var(--fill-color);\n",
              "    }\n",
              "    90% {\n",
              "      border-color: transparent;\n",
              "      border-bottom-color: var(--fill-color);\n",
              "    }\n",
              "  }\n",
              "</style>\n",
              "\n",
              "      <script>\n",
              "        async function quickchart(key) {\n",
              "          const quickchartButtonEl =\n",
              "            document.querySelector('#' + key + ' button');\n",
              "          quickchartButtonEl.disabled = true;  // To prevent multiple clicks.\n",
              "          quickchartButtonEl.classList.add('colab-df-spinner');\n",
              "          try {\n",
              "            const charts = await google.colab.kernel.invokeFunction(\n",
              "                'suggestCharts', [key], {});\n",
              "          } catch (error) {\n",
              "            console.error('Error during call to suggestCharts:', error);\n",
              "          }\n",
              "          quickchartButtonEl.classList.remove('colab-df-spinner');\n",
              "          quickchartButtonEl.classList.add('colab-df-quickchart-complete');\n",
              "        }\n",
              "        (() => {\n",
              "          let quickchartButtonEl =\n",
              "            document.querySelector('#df-16fd83d9-16a7-49f1-8aca-1c5429b083fb button');\n",
              "          quickchartButtonEl.style.display =\n",
              "            google.colab.kernel.accessAllowed ? 'block' : 'none';\n",
              "        })();\n",
              "      </script>\n",
              "    </div>\n",
              "\n",
              "    </div>\n",
              "  </div>\n"
            ],
            "application/vnd.google.colaboratory.intrinsic+json": {
              "type": "dataframe",
              "variable_name": "loja",
              "summary": "{\n  \"name\": \"loja\",\n  \"rows\": 2359,\n  \"fields\": [\n    {\n      \"column\": \"Produto\",\n      \"properties\": {\n        \"dtype\": \"category\",\n        \"num_unique_values\": 51,\n        \"samples\": [\n          \"Viol\\u00e3o\",\n          \"Bola de basquete\",\n          \"Smartwatch\"\n        ],\n        \"semantic_type\": \"\",\n        \"description\": \"\"\n      }\n    },\n    {\n      \"column\": \"Categoria do Produto\",\n      \"properties\": {\n        \"dtype\": \"category\",\n        \"num_unique_values\": 8,\n        \"samples\": [\n          \"moveis\",\n          \"esporte e lazer\",\n          \"eletronicos\"\n        ],\n        \"semantic_type\": \"\",\n        \"description\": \"\"\n      }\n    },\n    {\n      \"column\": \"Pre\\u00e7o\",\n      \"properties\": {\n        \"dtype\": \"number\",\n        \"std\": 819.5827782539145,\n        \"min\": 10.07,\n        \"max\": 3969.38,\n        \"num_unique_values\": 2315,\n        \"samples\": [\n          446.11,\n          107.31,\n          65.86\n        ],\n        \"semantic_type\": \"\",\n        \"description\": \"\"\n      }\n    },\n    {\n      \"column\": \"Frete\",\n      \"properties\": {\n        \"dtype\": \"number\",\n        \"std\": 43.814183327408166,\n        \"min\": 0.0,\n        \"max\": 214.3770604781,\n        \"num_unique_values\": 2149,\n        \"samples\": [\n          83.815279607,\n          16.069664669,\n          14.0344876928\n        ],\n        \"semantic_type\": \"\",\n        \"description\": \"\"\n      }\n    },\n    {\n      \"column\": \"Data da Compra\",\n      \"properties\": {\n        \"dtype\": \"object\",\n        \"num_unique_values\": 1018,\n        \"samples\": [\n          \"15/09/2022\",\n          \"03/06/2020\",\n          \"06/11/2021\"\n        ],\n        \"semantic_type\": \"\",\n        \"description\": \"\"\n      }\n    },\n    {\n      \"column\": \"Vendedor\",\n      \"properties\": {\n        \"dtype\": \"category\",\n        \"num_unique_values\": 14,\n        \"samples\": [\n          \"Juliana Costa\",\n          \"Mariana Ferreira\",\n          \"Pedro Gomes\"\n        ],\n        \"semantic_type\": \"\",\n        \"description\": \"\"\n      }\n    },\n    {\n      \"column\": \"Local da compra\",\n      \"properties\": {\n        \"dtype\": \"category\",\n        \"num_unique_values\": 26,\n        \"samples\": [\n          \"TO\",\n          \"RN\",\n          \"SP\"\n        ],\n        \"semantic_type\": \"\",\n        \"description\": \"\"\n      }\n    },\n    {\n      \"column\": \"Avalia\\u00e7\\u00e3o da compra\",\n      \"properties\": {\n        \"dtype\": \"number\",\n        \"std\": 1,\n        \"min\": 1,\n        \"max\": 5,\n        \"num_unique_values\": 5,\n        \"samples\": [\n          1,\n          2,\n          5\n        ],\n        \"semantic_type\": \"\",\n        \"description\": \"\"\n      }\n    },\n    {\n      \"column\": \"Tipo de pagamento\",\n      \"properties\": {\n        \"dtype\": \"category\",\n        \"num_unique_values\": 4,\n        \"samples\": [\n          \"boleto\",\n          \"cartao_debito\",\n          \"cartao_credito\"\n        ],\n        \"semantic_type\": \"\",\n        \"description\": \"\"\n      }\n    },\n    {\n      \"column\": \"Quantidade de parcelas\",\n      \"properties\": {\n        \"dtype\": \"number\",\n        \"std\": 2,\n        \"min\": 1,\n        \"max\": 24,\n        \"num_unique_values\": 15,\n        \"samples\": [\n          7,\n          14,\n          8\n        ],\n        \"semantic_type\": \"\",\n        \"description\": \"\"\n      }\n    },\n    {\n      \"column\": \"lat\",\n      \"properties\": {\n        \"dtype\": \"number\",\n        \"std\": 5.372399916530833,\n        \"min\": -30.17,\n        \"max\": 1.41,\n        \"num_unique_values\": 26,\n        \"samples\": [\n          -9.46,\n          -5.81,\n          -22.19\n        ],\n        \"semantic_type\": \"\",\n        \"description\": \"\"\n      }\n    },\n    {\n      \"column\": \"lon\",\n      \"properties\": {\n        \"dtype\": \"number\",\n        \"std\": 4.183180020544179,\n        \"min\": -70.55,\n        \"max\": -36.59,\n        \"num_unique_values\": 26,\n        \"samples\": [\n          -48.26,\n          -36.59,\n          -48.79\n        ],\n        \"semantic_type\": \"\",\n        \"description\": \"\"\n      }\n    }\n  ]\n}"
            }
          },
          "metadata": {},
          "execution_count": 501
        }
      ],
      "source": [
        "import pandas as pd\n",
        "\n",
        "url = \"https://raw.githubusercontent.com/alura-es-cursos/challenge1-data-science/refs/heads/main/base-de-dados-challenge-1/loja_1.csv\"\n",
        "url2 = \"https://raw.githubusercontent.com/alura-es-cursos/challenge1-data-science/refs/heads/main/base-de-dados-challenge-1/loja_2.csv\"\n",
        "url3 = \"https://raw.githubusercontent.com/alura-es-cursos/challenge1-data-science/refs/heads/main/base-de-dados-challenge-1/loja_3.csv\"\n",
        "url4 = \"https://raw.githubusercontent.com/alura-es-cursos/challenge1-data-science/refs/heads/main/base-de-dados-challenge-1/loja_4.csv\"\n",
        "\n",
        "loja = pd.read_csv(url)\n",
        "loja2 = pd.read_csv(url2)\n",
        "loja3 = pd.read_csv(url3)\n",
        "loja4 = pd.read_csv(url4)\n",
        "\n",
        "loja.head()"
      ]
    },
    {
      "cell_type": "markdown",
      "source": [
        "#1. Análise do faturamento\n"
      ],
      "metadata": {
        "id": "X62IW3KFUIYm"
      }
    },
    {
      "cell_type": "code",
      "source": [
        "faturamento_loja1 = loja['Preço'].astype(float).sum()\n",
        "print(f\"O faturamento da loja 1 é: {faturamento_loja1}\")\n",
        "\n",
        "faturamento_loja2 = loja2['Preço'].astype(float).sum()\n",
        "print(f\"\\nO faturamento da loja 2 é: {faturamento_loja2}\")\n",
        "\n",
        "faturamento_loja3 = loja3['Preço'].astype(float).sum()\n",
        "print(f\"\\nO faturamento da loja 3 é: {faturamento_loja3}\")\n",
        "\n",
        "faturamento_loja4 = loja4['Preço'].astype(float).sum()\n",
        "print(f\"\\nO faturamento da loja 4 é: {faturamento_loja4}\")"
      ],
      "metadata": {
        "id": "xykobSftV64I",
        "colab": {
          "base_uri": "https://localhost:8080/"
        },
        "outputId": "4517a15d-f56c-41ce-ba55-1888bde678de"
      },
      "execution_count": 502,
      "outputs": [
        {
          "output_type": "stream",
          "name": "stdout",
          "text": [
            "O faturamento da loja 1 é: 1534509.12\n",
            "\n",
            "O faturamento da loja 2 é: 1488459.06\n",
            "\n",
            "O faturamento da loja 3 é: 1464025.03\n",
            "\n",
            "O faturamento da loja 4 é: 1384497.58\n"
          ]
        }
      ]
    },
    {
      "cell_type": "code",
      "source": [
        "import matplotlib.pyplot as plt\n",
        "\n",
        "faturamento_loja1 = loja['Preço'].astype(float).sum()\n",
        "faturamento_loja2 = loja2['Preço'].astype(float).sum()\n",
        "faturamento_loja3 = loja3['Preço'].astype(float).sum()\n",
        "faturamento_loja4 = loja4['Preço'].astype(float).sum()\n",
        "\n",
        "faturamento = [faturamento_loja1, faturamento_loja2, faturamento_loja3, faturamento_loja4]\n",
        "nomes_lojas = ['Loja 1', 'Loja 2', 'Loja 3', 'Loja 4']\n",
        "\n",
        "plt.plot(nomes_lojas, faturamento, marker='o', color='red')\n",
        "plt.title('Faturamento por Loja')\n",
        "plt.xlabel('Lojas')\n",
        "plt.ylabel('Faturamento (R$)')\n",
        "plt.grid(True)\n",
        "plt.show()"
      ],
      "metadata": {
        "id": "KDyr8E71V3m-",
        "colab": {
          "base_uri": "https://localhost:8080/",
          "height": 472
        },
        "outputId": "a1800651-ea99-4f08-8031-c10b523462bd"
      },
      "execution_count": 503,
      "outputs": [
        {
          "output_type": "display_data",
          "data": {
            "text/plain": [
              "<Figure size 640x480 with 1 Axes>"
            ],
            "image/png": "[encoded data removed]"
          },
          "metadata": {}
        }
      ]
    },
    {
      "cell_type": "markdown",
      "source": [
        "# 2. Vendas por Categoria\n"
      ],
      "metadata": {
        "id": "2V_vcAPzWZmR"
      }
    },
    {
      "cell_type": "code",
      "source": [
        "import matplotlib.pyplot as plt\n",
        "\n",
        "def vendasCategoria(nome_loja, loja_escolhida):\n",
        "    categorias = {}\n",
        "\n",
        "    for item in loja_escolhida:\n",
        "        if item in categorias:\n",
        "            categorias[item] += 1\n",
        "        else:\n",
        "            categorias[item] = 1\n",
        "\n",
        "    print(f\"Categorias da {nome_loja}:\\n\")\n",
        "    for categoria, quantidade in categorias.items():\n",
        "        print(f\"{categoria}: {quantidade} vendas\")\n",
        "    # Qual categoria teve mais vendas:\n",
        "    mais_vendida_nome = max(categorias, key=categorias.get)\n",
        "    mais_vendida_qtd = categorias[mais_vendida_nome]\n",
        "\n",
        "    print(f\"-- Categoria mais vendida: {mais_vendida_nome} - {mais_vendida_qtd} produtos\\n\")\n",
        "    return mais_vendida_nome, mais_vendida_qtd\n",
        "\n",
        "cat1, qtd1 = vendasCategoria(\"Loja 1\", loja['Categoria do Produto'])\n",
        "cat2, qtd2 = vendasCategoria(\"Loja 2\", loja2['Categoria do Produto'])\n",
        "cat3, qtd3 = vendasCategoria(\"Loja 3\", loja3['Categoria do Produto'])\n",
        "cat4, qtd4 = vendasCategoria(\"Loja 4\", loja4['Categoria do Produto'])\n",
        "\n",
        "categorias = [cat1, cat2, cat3, cat4]\n",
        "quantidades = [qtd1, qtd2, qtd3, qtd4]\n",
        "lojas = ['Loja 1', 'Loja 2', 'Loja 3', 'Loja 4']\n",
        "\n",
        "plt.bar(lojas, quantidades, color='mediumseagreen')\n",
        "\n",
        "for i, valor in enumerate(quantidades):\n",
        "    plt.text(i, valor + 1, f\"{categorias[i]}\\n{valor}\", ha='center', fontsize=9)\n",
        "\n",
        "plt.title('Categorias mais vendidas por loja')\n",
        "plt.xlabel('Lojas')\n",
        "plt.ylabel('Quantidade de vendas')\n",
        "plt.tight_layout()\n",
        "plt.show()"
      ],
      "metadata": {
        "id": "A34YupIuYhfF",
        "colab": {
          "base_uri": "https://localhost:8080/",
          "height": 1000
        },
        "outputId": "f253a18d-8c6f-46a3-8315-ed22caf53b2e"
      },
      "execution_count": 504,
      "outputs": [
        {
          "output_type": "stream",
          "name": "stdout",
          "text": [
            "Categorias da Loja 1:\n",
            "\n",
            "eletronicos: 448 vendas\n",
            "moveis: 465 vendas\n",
            "brinquedos: 324 vendas\n",
            "eletrodomesticos: 312 vendas\n",
            "utilidades domesticas: 171 vendas\n",
            "esporte e lazer: 284 vendas\n",
            "livros: 173 vendas\n",
            "instrumentos musicais: 182 vendas\n",
            "-- Categoria mais vendida: moveis - 465 produtos\n",
            "\n",
            "Categorias da Loja 2:\n",
            "\n",
            "moveis: 442 vendas\n",
            "instrumentos musicais: 224 vendas\n",
            "esporte e lazer: 275 vendas\n",
            "eletronicos: 422 vendas\n",
            "utilidades domesticas: 181 vendas\n",
            "brinquedos: 313 vendas\n",
            "eletrodomesticos: 305 vendas\n",
            "livros: 197 vendas\n",
            "-- Categoria mais vendida: moveis - 442 produtos\n",
            "\n",
            "Categorias da Loja 3:\n",
            "\n",
            "eletrodomesticos: 278 vendas\n",
            "moveis: 499 vendas\n",
            "instrumentos musicais: 177 vendas\n",
            "esporte e lazer: 277 vendas\n",
            "eletronicos: 451 vendas\n",
            "brinquedos: 315 vendas\n",
            "utilidades domesticas: 177 vendas\n",
            "livros: 185 vendas\n",
            "-- Categoria mais vendida: moveis - 499 produtos\n",
            "\n",
            "Categorias da Loja 4:\n",
            "\n",
            "eletrodomesticos: 254 vendas\n",
            "moveis: 480 vendas\n",
            "esporte e lazer: 277 vendas\n",
            "livros: 187 vendas\n",
            "eletronicos: 451 vendas\n",
            "instrumentos musicais: 170 vendas\n",
            "brinquedos: 338 vendas\n",
            "utilidades domesticas: 201 vendas\n",
            "-- Categoria mais vendida: moveis - 480 produtos\n",
            "\n"
          ]
        },
        {
          "output_type": "display_data",
          "data": {
            "text/plain": [
              "<Figure size 640x480 with 1 Axes>"
            ],
            "image/png": "[encoded data removed]"
          },
          "metadata": {}
        }
      ]
    },
    {
      "cell_type": "markdown",
      "source": [
        "# 3. Média de Avaliação das Lojas"
      ],
      "metadata": {
        "id": "Rq6tU_xSY3jk"
      }
    },
    {
      "cell_type": "code",
      "source": [
        "def avaliacaoMediaLojas(nome_loja, loja_escolhida):\n",
        "    avaliacoes = {}\n",
        "    soma_avaliacoes = 0\n",
        "\n",
        "    for avaliacao in loja_escolhida:\n",
        "        if avaliacao in avaliacoes:\n",
        "            avaliacoes[avaliacao] += 1\n",
        "        else:\n",
        "            avaliacoes[avaliacao] = 1\n",
        "\n",
        "        soma_avaliacoes += avaliacao  # soma total das avaliações\n",
        "\n",
        "    qtd_avaliacoes = len(loja_escolhida)\n",
        "    media = (soma_avaliacoes / qtd_avaliacoes)\n",
        "\n",
        "    print(f\"\\n{nome_loja}:\")\n",
        "    for avaliacao in sorted(avaliacoes.keys()):\n",
        "        print(f\"{avaliacao}: {avaliacoes[avaliacao]} avaliações\")\n",
        "\n",
        "    print(f\"Média das avaliações: {media:.2f}\")\n",
        "    return media\n",
        "\n",
        "media1 = avaliacaoMediaLojas('Loja 1', loja['Avaliação da compra'])\n",
        "media2 = avaliacaoMediaLojas('Loja 2', loja2['Avaliação da compra'])\n",
        "media3 = avaliacaoMediaLojas('Loja 3', loja3['Avaliação da compra'])\n",
        "media4 = avaliacaoMediaLojas('Loja 4', loja4['Avaliação da compra'])\n",
        "\n",
        "import matplotlib.pyplot as plt\n",
        "\n",
        "lojas = ['Loja 1', 'Loja 2', 'Loja 3', 'Loja 4']\n",
        "quantidades = [media1, media2, media3, media4]\n",
        "\n",
        "plt.pie(quantidades, labels=lojas, autopct='%1.1f%%', startangle=90)\n",
        "plt.title('Média dos fretes de todas as lojas')\n",
        "plt.show()"
      ],
      "metadata": {
        "id": "bh3jjjJwY5MU",
        "colab": {
          "base_uri": "https://localhost:8080/",
          "height": 985
        },
        "outputId": "b16fd5f0-2c60-43e9-cb51-c707e5b1fc78"
      },
      "execution_count": 505,
      "outputs": [
        {
          "output_type": "stream",
          "name": "stdout",
          "text": [
            "\n",
            "Loja 1:\n",
            "1: 319 avaliações\n",
            "2: 86 avaliações\n",
            "3: 218 avaliações\n",
            "4: 444 avaliações\n",
            "5: 1292 avaliações\n",
            "Média das avaliações: 3.98\n",
            "\n",
            "Loja 2:\n",
            "1: 273 avaliações\n",
            "2: 93 avaliações\n",
            "3: 209 avaliações\n",
            "4: 482 avaliações\n",
            "5: 1302 avaliações\n",
            "Média das avaliações: 4.04\n",
            "\n",
            "Loja 3:\n",
            "1: 297 avaliações\n",
            "2: 79 avaliações\n",
            "3: 193 avaliações\n",
            "4: 434 avaliações\n",
            "5: 1356 avaliações\n",
            "Média das avaliações: 4.05\n",
            "\n",
            "Loja 4:\n",
            "1: 310 avaliações\n",
            "2: 85 avaliações\n",
            "3: 210 avaliações\n",
            "4: 453 avaliações\n",
            "5: 1300 avaliações\n",
            "Média das avaliações: 4.00\n"
          ]
        },
        {
          "output_type": "display_data",
          "data": {
            "text/plain": [
              "<Figure size 640x480 with 1 Axes>"
            ],
            "image/png": "[encoded data removed]"
          },
          "metadata": {}
        }
      ]
    },
    {
      "cell_type": "markdown",
      "source": [
        "# 4. Produtos Mais e Menos Vendidos"
      ],
      "metadata": {
        "id": "DmNp1KPBZCm-"
      }
    },
    {
      "cell_type": "code",
      "source": [
        "def comparacaoMaisMenosVendidos(nome_loja, loja_escolhida):\n",
        "  produtos = {}\n",
        "\n",
        "  for produto in loja_escolhida:\n",
        "    if produto in produtos:\n",
        "      produtos[produto] += 1\n",
        "    else:\n",
        "      produtos[produto] = 1\n",
        "  print(nome_loja, produtos)\n",
        "\n",
        "  mais_vendido = max(produtos, key=produtos.get)\n",
        "  qtd_mais_vendido = produtos[mais_vendido]\n",
        "\n",
        "  menos_vendido = min(produtos, key=produtos.get)\n",
        "  qtd_menos_vendido = produtos[menos_vendido]\n",
        "  print(f\"O produto mais vendido é {mais_vendido} com {qtd_mais_vendido} de vendas.\");\n",
        "  print(f\"O produto menos vendido é {menos_vendido} com {qtd_menos_vendido} de vendas.\\n\");\n",
        "\n",
        "comparacaoMaisMenosVendidos('Loja 1', loja['Produto']);\n",
        "comparacaoMaisMenosVendidos('Loja 2', loja2['Produto']);\n",
        "comparacaoMaisMenosVendidos('Loja 3', loja3['Produto']);\n",
        "comparacaoMaisMenosVendidos('Loja 4', loja4['Produto']);"
      ],
      "metadata": {
        "id": "qoyjqijQZHfF",
        "colab": {
          "base_uri": "https://localhost:8080/"
        },
        "outputId": "0141aec4-a18c-474d-db97-bcd998851937"
      },
      "execution_count": 506,
      "outputs": [
        {
          "output_type": "stream",
          "name": "stdout",
          "text": [
            "Loja 1 {'Assistente virtual': 40, 'Mesa de jantar': 40, 'Jogo de tabuleiro': 43, 'Micro-ondas': 60, 'Cadeira de escritório': 46, 'Blocos de montar': 56, 'Boneca bebê': 40, 'Lava louças': 48, 'Lavadora de roupas': 47, 'Carrinho controle remoto': 52, 'Geladeira': 54, 'Fone de ouvido': 50, 'Panela de pressão': 35, 'Bicicleta': 54, 'Ciência de dados com python': 39, 'Bola de vôlei': 42, 'Xadrez de madeira': 49, 'TV Led UHD 4K': 60, 'Copo térmico': 54, 'Kit banquetas': 44, 'Dashboards com Power BI': 42, 'Faqueiro': 52, 'Jogo de panelas': 43, 'Bateria': 53, 'Corda de pular': 40, 'Fogão': 45, 'Cama box': 44, 'Impressora': 54, 'Cômoda': 56, 'Guarda roupas': 60, 'Dinossauro Rex': 40, 'Guitarra': 47, 'Secadora de roupas': 58, 'Sofá retrátil': 46, 'Tablet ABXY': 42, 'Cubo mágico 8x8': 44, 'Jogo de copos': 41, 'Modelagem preditiva': 51, 'Celular Plus X42': 49, 'Mochila': 39, 'Bola de basquete': 55, 'Headset': 33, 'Poltrona': 41, 'Violão': 46, 'Iniciando em programação': 41, 'Celular ABXY': 33, 'Smartwatch': 43, 'Mesa de centro': 44, 'Cama king': 44, 'Smart TV': 44, 'Pandeiro': 36}\n",
            "O produto mais vendido é Micro-ondas com 60 de vendas.\n",
            "O produto menos vendido é Headset com 33 de vendas.\n",
            "\n",
            "Loja 2 {'Cadeira de escritório': 49, 'Pandeiro': 58, 'Cama king': 45, 'Violão': 58, 'Mochila': 45, 'Tablet ABXY': 44, 'Panela de pressão': 44, 'Cubo mágico 8x8': 45, 'Secadora de roupas': 57, 'Jogo de tabuleiro': 32, 'Xadrez de madeira': 45, 'Bicicleta': 45, 'Modelagem preditiva': 46, 'Dashboards com Power BI': 43, 'Corda de pular': 50, 'Jogo de copos': 46, 'Boneca bebê': 48, 'Ciência de dados com python': 43, 'Lava louças': 46, 'Blocos de montar': 54, 'Copo térmico': 47, 'Faqueiro': 39, 'Fogão': 42, 'Jogo de panelas': 52, 'TV Led UHD 4K': 45, 'Poltrona': 35, 'Guitarra': 47, 'Headset': 44, 'Dinossauro Rex': 42, 'Smart TV': 40, 'Guarda roupas': 54, 'Geladeira': 49, 'Mesa de centro': 45, 'Lavadora de roupas': 49, 'Bateria': 61, 'Celular ABXY': 41, 'Bola de basquete': 42, 'Mesa de jantar': 34, 'Kit banquetas': 45, 'Cama box': 47, 'Bola de vôlei': 46, 'Assistente virtual': 38, 'Sofá retrátil': 44, 'Carrinho controle remoto': 47, 'Fone de ouvido': 37, 'Micro-ondas': 62, 'Smartwatch': 44, 'Iniciando em programação': 65, 'Cômoda': 44, 'Impressora': 34, 'Celular Plus X42': 55}\n",
            "O produto mais vendido é Iniciando em programação com 65 de vendas.\n",
            "O produto menos vendido é Jogo de tabuleiro com 32 de vendas.\n",
            "\n",
            "Loja 3 {'Secadora de roupas': 45, 'Cômoda': 55, 'Violão': 47, 'Bola de vôlei': 48, 'Guarda roupas': 49, 'Impressora': 50, 'Carrinho controle remoto': 52, 'Cadeira de escritório': 46, 'Pandeiro': 51, 'Faqueiro': 39, 'Boneca bebê': 39, 'Fone de ouvido': 43, 'Jogo de copos': 36, 'TV Led UHD 4K': 42, 'Panela de pressão': 47, 'Lavadora de roupas': 42, 'Jogo de panelas': 55, 'Dinossauro Rex': 46, 'Modelagem preditiva': 53, 'Mesa de jantar': 56, 'Dashboards com Power BI': 40, 'Kit banquetas': 57, 'Corda de pular': 53, 'Iniciando em programação': 46, 'Bola de basquete': 50, 'Fogão': 53, 'Bicicleta': 52, 'Lava louças': 52, 'Smart TV': 54, 'Mochila': 36, 'Tablet ABXY': 48, 'Mesa de centro': 42, 'Cama box': 46, 'Xadrez de madeira': 47, 'Celular Plus X42': 46, 'Cama king': 56, 'Smartwatch': 46, 'Ciência de dados com python': 46, 'Geladeira': 50, 'Headset': 39, 'Jogo de tabuleiro': 52, 'Bateria': 41, 'Guitarra': 38, 'Sofá retrátil': 45, 'Poltrona': 47, 'Assistente virtual': 39, 'Copo térmico': 38, 'Celular ABXY': 44, 'Micro-ondas': 36, 'Cubo mágico 8x8': 44, 'Blocos de montar': 35}\n",
            "O produto mais vendido é Kit banquetas com 57 de vendas.\n",
            "O produto menos vendido é Blocos de montar com 35 de vendas.\n",
            "\n",
            "Loja 4 {'Lava louças': 43, 'Cama box': 62, 'Bola de basquete': 50, 'Modelagem preditiva': 50, 'Fone de ouvido': 44, 'Geladeira': 38, 'Guitarra': 33, 'Headset': 42, 'Celular Plus X42': 48, 'Cômoda': 55, 'Boneca bebê': 48, 'Dashboards com Power BI': 56, 'Cadeira de escritório': 40, 'Kit banquetas': 42, 'Impressora': 50, 'Jogo de copos': 46, 'Mesa de jantar': 55, 'Carrinho controle remoto': 55, 'Corda de pular': 43, 'Fogão': 47, 'Cama king': 56, 'Bola de vôlei': 48, 'Secadora de roupas': 40, 'Dinossauro Rex': 47, 'TV Led UHD 4K': 40, 'Copo térmico': 48, 'Smart TV': 54, 'Mesa de centro': 44, 'Tablet ABXY': 45, 'Panela de pressão': 46, 'Bateria': 48, 'Pandeiro': 52, 'Iniciando em programação': 43, 'Jogo de tabuleiro': 48, 'Celular ABXY': 39, 'Faqueiro': 59, 'Guarda roupas': 34, 'Blocos de montar': 54, 'Bicicleta': 45, 'Assistente virtual': 50, 'Jogo de panelas': 50, 'Violão': 37, 'Xadrez de madeira': 39, 'Micro-ondas': 48, 'Smartwatch': 39, 'Mochila': 43, 'Lavadora de roupas': 38, 'Ciência de dados com python': 38, 'Cubo mágico 8x8': 47, 'Poltrona': 45, 'Sofá retrátil': 47}\n",
            "O produto mais vendido é Cama box com 62 de vendas.\n",
            "O produto menos vendido é Guitarra com 33 de vendas.\n",
            "\n"
          ]
        }
      ]
    },
    {
      "cell_type": "markdown",
      "source": [
        "# 5. Frete Médio por Loja\n"
      ],
      "metadata": {
        "id": "Fl0cGi3bZKqU"
      }
    },
    {
      "cell_type": "code",
      "source": [
        "def mediaDoFrete(nome_loja, loja_escolhida):\n",
        "    media = loja_escolhida.mean()\n",
        "    print(f\"{nome_loja} - Média de frete: R$ {media:.2f}\")\n",
        "\n",
        "mediaDoFrete('Loja 1', loja['Frete']);\n",
        "mediaDoFrete('Loja 2', loja2['Frete']);\n",
        "mediaDoFrete('Loja 3', loja3['Frete']);\n",
        "mediaDoFrete('Loja 4', loja4['Frete']);"
      ],
      "metadata": {
        "id": "S2JeaCykZNy9",
        "colab": {
          "base_uri": "https://localhost:8080/"
        },
        "outputId": "b26309e7-6374-493a-fc01-a48e0850732e"
      },
      "execution_count": 507,
      "outputs": [
        {
          "output_type": "stream",
          "name": "stdout",
          "text": [
            "Loja 1 - Média de frete: R$ 34.69\n",
            "Loja 2 - Média de frete: R$ 33.62\n",
            "Loja 3 - Média de frete: R$ 33.07\n",
            "Loja 4 - Média de frete: R$ 31.28\n"
          ]
        }
      ]
    },
    {
      "cell_type": "markdown",
      "source": [
        "## Relatório\n",
        "\n",
        "De acordo com os relatórios gerados, a loja 1 do Sr. João apresenta o melhor rendimento financeiro total, com um faturamento de R$1.534.509.12. Já as outras lojas apresentaram uma queda em relação a esse valor inicial, com a Loja 4 chegando a uma diferença de aproximadamente 150 mil reais.\n",
        "\n",
        "Agora, todas as lojas mostraram que a categoria com a maior popularidade foi a categoria de Móveis, sendo mais de 440 itens vendidos nessa categoria em todas as lojas do Sr. João.\n",
        "\n",
        "Já nas avaliações, foi o caso contrário em comparação ao faturamento das lojas, sendo a loja 4 a loja com a maior média de avaliações e a loja 1 sendo a com a menor média. Porém, a Loja que apresenta a maior  quantidade de 5 estrelas é a Loja 3!\n",
        "\n",
        "Os produtos mais vendidos em cada loja ficaram entre 50 e 60 unidades, sendo os principais itens:\n",
        "\n",
        "- Loja 1: Micro-ondas\n",
        "- Loja 2: Iniciando em Programação\n",
        "- Loja 3: Kit de Banquetas\n",
        "- Loja 4: Cama Box\n",
        "\n",
        "Em contrapartida, os produtos com menor volume de vendas foram: Headset, Jogo de Tabuleiro, Blocos de Montar e Guitarra.\n",
        "\n",
        "As 4 Lojas apresentam pouca variação de preço do frete, sendo a média de todos os fretes por volta dos 33,17 reais.\n",
        "\n",
        "Dado aos relatórios gerados, a loja com o maior lucro e maior frete é a loja 1, já as lojas sobrantes possuem menor rendimento financeiro e maior avaliação. Entretando, a diferença de lucro da loja 1 para a loja 4 é evidente, então o Sr. João deveria considerar vender a loja 4, pois seu rendimento não acompanha o potencial lucrativo como as outras lojas, mesmo tendo a melhor média de avaliações e frete mais baixo."
      ],
      "metadata": {
        "id": "mrztFUzj2pad"
      }
    }
  ]
}